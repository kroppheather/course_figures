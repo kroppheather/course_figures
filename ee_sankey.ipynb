{
 "cells": [
  {
   "cell_type": "code",
   "execution_count": 5,
   "metadata": {},
   "outputs": [
    {
     "name": "stdout",
     "output_type": "stream",
     "text": [
      "Collecting earthengine-api\n",
      "  Downloading earthengine-api-0.1.260.tar.gz (148 kB)\n",
      "\u001b[K     |████████████████████████████████| 148 kB 2.4 MB/s eta 0:00:01\n",
      "\u001b[?25hRequirement already satisfied, skipping upgrade: future in ./opt/anaconda3/lib/python3.7/site-packages (from earthengine-api) (0.18.2)\n",
      "Collecting google-cloud-storage\n",
      "  Downloading google_cloud_storage-1.37.1-py2.py3-none-any.whl (103 kB)\n",
      "\u001b[K     |████████████████████████████████| 103 kB 5.1 MB/s eta 0:00:01\n",
      "\u001b[?25hCollecting google-api-python-client<2,>=1.12.1\n",
      "  Downloading google_api_python_client-1.12.8-py2.py3-none-any.whl (61 kB)\n",
      "\u001b[K     |████████████████████████████████| 61 kB 59 kB/s s eta 0:00:01\n",
      "\u001b[?25hCollecting google-auth>=1.4.1\n",
      "  Downloading google_auth-1.28.1-py2.py3-none-any.whl (136 kB)\n",
      "\u001b[K     |████████████████████████████████| 136 kB 9.9 MB/s eta 0:00:01\n",
      "\u001b[?25hCollecting google-auth-httplib2>=0.0.3\n",
      "  Downloading google_auth_httplib2-0.1.0-py2.py3-none-any.whl (9.3 kB)\n",
      "Collecting httplib2<1dev,>=0.9.2\n",
      "  Downloading httplib2-0.19.1-py3-none-any.whl (95 kB)\n",
      "\u001b[K     |████████████████████████████████| 95 kB 1.1 MB/s eta 0:00:01\n",
      "\u001b[?25hCollecting httplib2shim\n",
      "  Using cached httplib2shim-0.0.3.tar.gz (17 kB)\n",
      "Requirement already satisfied, skipping upgrade: six in ./opt/anaconda3/lib/python3.7/site-packages (from earthengine-api) (1.14.0)\n",
      "Requirement already satisfied, skipping upgrade: requests<3.0.0dev,>=2.18.0 in ./opt/anaconda3/lib/python3.7/site-packages (from google-cloud-storage->earthengine-api) (2.22.0)\n",
      "Collecting google-cloud-core<2.0dev,>=1.4.1\n",
      "  Downloading google_cloud_core-1.6.0-py2.py3-none-any.whl (28 kB)\n",
      "Collecting google-resumable-media<2.0dev,>=1.2.0\n",
      "  Downloading google_resumable_media-1.2.0-py2.py3-none-any.whl (75 kB)\n",
      "\u001b[K     |████████████████████████████████| 75 kB 3.6 MB/s  eta 0:00:01\n",
      "\u001b[?25hCollecting google-api-core<2dev,>=1.21.0\n",
      "  Downloading google_api_core-1.26.3-py2.py3-none-any.whl (93 kB)\n",
      "\u001b[K     |████████████████████████████████| 93 kB 2.1 MB/s  eta 0:00:01\n",
      "\u001b[?25hCollecting uritemplate<4dev,>=3.0.0\n",
      "  Using cached uritemplate-3.0.1-py2.py3-none-any.whl (15 kB)\n",
      "Requirement already satisfied, skipping upgrade: setuptools>=40.3.0 in ./opt/anaconda3/lib/python3.7/site-packages (from google-auth>=1.4.1->earthengine-api) (46.0.0.post20200309)\n",
      "Collecting cachetools<5.0,>=2.0.0\n",
      "  Downloading cachetools-4.2.1-py3-none-any.whl (12 kB)\n",
      "Collecting rsa<5,>=3.1.4; python_version >= \"3.6\"\n",
      "  Downloading rsa-4.7.2-py3-none-any.whl (34 kB)\n",
      "Collecting pyasn1-modules>=0.2.1\n",
      "  Using cached pyasn1_modules-0.2.8-py2.py3-none-any.whl (155 kB)\n",
      "Requirement already satisfied, skipping upgrade: pyparsing<3,>=2.4.2 in ./opt/anaconda3/lib/python3.7/site-packages (from httplib2<1dev,>=0.9.2->earthengine-api) (2.4.6)\n",
      "Requirement already satisfied, skipping upgrade: urllib3 in ./opt/anaconda3/lib/python3.7/site-packages (from httplib2shim->earthengine-api) (1.25.8)\n",
      "Requirement already satisfied, skipping upgrade: certifi in ./opt/anaconda3/lib/python3.7/site-packages (from httplib2shim->earthengine-api) (2019.11.28)\n",
      "Requirement already satisfied, skipping upgrade: chardet<3.1.0,>=3.0.2 in ./opt/anaconda3/lib/python3.7/site-packages (from requests<3.0.0dev,>=2.18.0->google-cloud-storage->earthengine-api) (3.0.4)\n",
      "Requirement already satisfied, skipping upgrade: idna<2.9,>=2.5 in ./opt/anaconda3/lib/python3.7/site-packages (from requests<3.0.0dev,>=2.18.0->google-cloud-storage->earthengine-api) (2.8)\n",
      "Collecting google-crc32c<2.0dev,>=1.0; python_version >= \"3.5\"\n",
      "  Downloading google_crc32c-1.1.2-cp37-cp37m-macosx_10_14_x86_64.whl (27 kB)\n",
      "Collecting protobuf>=3.12.0\n",
      "  Downloading protobuf-3.15.8-cp37-cp37m-macosx_10_9_x86_64.whl (1.0 MB)\n",
      "\u001b[K     |████████████████████████████████| 1.0 MB 8.1 MB/s eta 0:00:01\n",
      "\u001b[?25hRequirement already satisfied, skipping upgrade: pytz in ./opt/anaconda3/lib/python3.7/site-packages (from google-api-core<2dev,>=1.21.0->google-api-python-client<2,>=1.12.1->earthengine-api) (2019.3)\n",
      "Collecting googleapis-common-protos<2.0dev,>=1.6.0\n",
      "  Downloading googleapis_common_protos-1.53.0-py2.py3-none-any.whl (198 kB)\n",
      "\u001b[K     |████████████████████████████████| 198 kB 9.1 MB/s eta 0:00:01\n",
      "\u001b[?25hRequirement already satisfied, skipping upgrade: packaging>=14.3 in ./opt/anaconda3/lib/python3.7/site-packages (from google-api-core<2dev,>=1.21.0->google-api-python-client<2,>=1.12.1->earthengine-api) (20.1)\n",
      "Collecting pyasn1>=0.1.3\n",
      "  Using cached pyasn1-0.4.8-py2.py3-none-any.whl (77 kB)\n",
      "Requirement already satisfied, skipping upgrade: cffi>=1.0.0 in ./opt/anaconda3/lib/python3.7/site-packages (from google-crc32c<2.0dev,>=1.0; python_version >= \"3.5\"->google-resumable-media<2.0dev,>=1.2.0->google-cloud-storage->earthengine-api) (1.14.0)\n",
      "Requirement already satisfied, skipping upgrade: pycparser in ./opt/anaconda3/lib/python3.7/site-packages (from cffi>=1.0.0->google-crc32c<2.0dev,>=1.0; python_version >= \"3.5\"->google-resumable-media<2.0dev,>=1.2.0->google-cloud-storage->earthengine-api) (2.19)\n",
      "Building wheels for collected packages: earthengine-api, httplib2shim\n",
      "  Building wheel for earthengine-api (setup.py) ... \u001b[?25ldone\n",
      "\u001b[?25h  Created wheel for earthengine-api: filename=earthengine_api-0.1.260-py3-none-any.whl size=178438 sha256=bbd4625e6c4cea9f5e7da8dab57b4b5db530d0e65ceffbc9cabb396752c35151\n",
      "  Stored in directory: /Users/hkropp/Library/Caches/pip/wheels/1d/0d/77/4f8509af939294adbd3fe330d6def12728edd2c1d7d11a95ed\n",
      "  Building wheel for httplib2shim (setup.py) ... \u001b[?25ldone\n",
      "\u001b[?25h  Created wheel for httplib2shim: filename=httplib2shim-0.0.3-py2.py3-none-any.whl size=18057 sha256=735bdcd1699441be11101a42777519b0034f166570547733defcc684e56ba13c\n",
      "  Stored in directory: /Users/hkropp/Library/Caches/pip/wheels/b7/3d/b4/033d07bc6a387ce6e16807fe14d4b780d84c78e54dc73a3568\n",
      "Successfully built earthengine-api httplib2shim\n",
      "Installing collected packages: cachetools, pyasn1, rsa, pyasn1-modules, google-auth, protobuf, googleapis-common-protos, google-api-core, google-cloud-core, google-crc32c, google-resumable-media, google-cloud-storage, httplib2, google-auth-httplib2, uritemplate, google-api-python-client, httplib2shim, earthengine-api\n",
      "Successfully installed cachetools-4.2.1 earthengine-api-0.1.260 google-api-core-1.26.3 google-api-python-client-1.12.8 google-auth-1.28.1 google-auth-httplib2-0.1.0 google-cloud-core-1.6.0 google-cloud-storage-1.37.1 google-crc32c-1.1.2 google-resumable-media-1.2.0 googleapis-common-protos-1.53.0 httplib2-0.19.1 httplib2shim-0.0.3 protobuf-3.15.8 pyasn1-0.4.8 pyasn1-modules-0.2.8 rsa-4.7.2 uritemplate-3.0.1\n",
      "Note: you may need to restart the kernel to use updated packages.\n"
     ]
    }
   ],
   "source": [
    "pip install earthengine-api --upgrade"
   ]
  },
  {
   "cell_type": "code",
   "execution_count": 1,
   "metadata": {},
   "outputs": [],
   "source": [
    "import ee"
   ]
  },
  {
   "cell_type": "code",
   "execution_count": 2,
   "metadata": {},
   "outputs": [
    {
     "data": {
      "text/html": [
       "<p>To authorize access needed by Earth Engine, open the following\n",
       "        URL in a web browser and follow the instructions:</p>\n",
       "        <p><a href=https://code.earthengine.google.com/client-auth?scopes=https%3A//www.googleapis.com/auth/earthengine%20https%3A//www.googleapis.com/auth/devstorage.full_control&request_id=BH6PR9Vw-a8VNuvAAHwKwGi7SKl96TKoXjdS4PQ7b6g&tc=ZO-R2-5Im4REFxnUOkLLO9gTnUTk1dkS4hpdSDEBLpw&cc=A2glSbHynKHvHBbAjVw5lhBJapYA9_S0H0PbT1Lt3nU>https://code.earthengine.google.com/client-auth?scopes=https%3A//www.googleapis.com/auth/earthengine%20https%3A//www.googleapis.com/auth/devstorage.full_control&request_id=BH6PR9Vw-a8VNuvAAHwKwGi7SKl96TKoXjdS4PQ7b6g&tc=ZO-R2-5Im4REFxnUOkLLO9gTnUTk1dkS4hpdSDEBLpw&cc=A2glSbHynKHvHBbAjVw5lhBJapYA9_S0H0PbT1Lt3nU</a></p>\n",
       "        <p>The authorization workflow will generate a code, which you\n",
       "        should paste in the box below</p>\n",
       "        "
      ],
      "text/plain": [
       "<IPython.core.display.HTML object>"
      ]
     },
     "metadata": {},
     "output_type": "display_data"
    },
    {
     "ename": "KeyboardInterrupt",
     "evalue": "Interrupted by user",
     "output_type": "error",
     "traceback": [
      "\u001b[0;31m---------------------------------------------------------------------------\u001b[0m",
      "\u001b[0;31mKeyboardInterrupt\u001b[0m                         Traceback (most recent call last)",
      "\u001b[0;32m<ipython-input-2-6baf81e921f5>\u001b[0m in \u001b[0;36m<module>\u001b[0;34m\u001b[0m\n\u001b[1;32m      1\u001b[0m \u001b[0;31m# Trigger the authentication flow.\u001b[0m\u001b[0;34m\u001b[0m\u001b[0;34m\u001b[0m\u001b[0;34m\u001b[0m\u001b[0m\n\u001b[0;32m----> 2\u001b[0;31m \u001b[0mee\u001b[0m\u001b[0;34m.\u001b[0m\u001b[0mAuthenticate\u001b[0m\u001b[0;34m(\u001b[0m\u001b[0;34m)\u001b[0m\u001b[0;34m\u001b[0m\u001b[0;34m\u001b[0m\u001b[0m\n\u001b[0m",
      "\u001b[0;32m~/opt/anaconda3/lib/python3.7/site-packages/ee/__init__.py\u001b[0m in \u001b[0;36mAuthenticate\u001b[0;34m(authorization_code, quiet, code_verifier, auth_mode, scopes)\u001b[0m\n\u001b[1;32m     99\u001b[0m   \"\"\"\n\u001b[1;32m    100\u001b[0m   oauth.authenticate(authorization_code, quiet, code_verifier, auth_mode,\n\u001b[0;32m--> 101\u001b[0;31m                      scopes)\n\u001b[0m\u001b[1;32m    102\u001b[0m \u001b[0;34m\u001b[0m\u001b[0m\n\u001b[1;32m    103\u001b[0m \u001b[0;34m\u001b[0m\u001b[0m\n",
      "\u001b[0;32m~/opt/anaconda3/lib/python3.7/site-packages/ee/oauth.py\u001b[0m in \u001b[0;36mauthenticate\u001b[0;34m(cli_authorization_code, quiet, cli_code_verifier, auth_mode, scopes)\u001b[0m\n\u001b[1;32m    381\u001b[0m   \u001b[0m_open_new_browser\u001b[0m\u001b[0;34m(\u001b[0m\u001b[0mauth_url\u001b[0m\u001b[0;34m)\u001b[0m\u001b[0;34m\u001b[0m\u001b[0;34m\u001b[0m\u001b[0m\n\u001b[1;32m    382\u001b[0m \u001b[0;34m\u001b[0m\u001b[0m\n\u001b[0;32m--> 383\u001b[0;31m   \u001b[0m_obtain_and_write_token\u001b[0m\u001b[0;34m(\u001b[0m\u001b[0;32mNone\u001b[0m\u001b[0;34m,\u001b[0m \u001b[0mcode_verifier\u001b[0m\u001b[0;34m,\u001b[0m \u001b[0mscopes\u001b[0m\u001b[0;34m)\u001b[0m  \u001b[0;31m# Prompts for auth_code.\u001b[0m\u001b[0;34m\u001b[0m\u001b[0;34m\u001b[0m\u001b[0m\n\u001b[0m",
      "\u001b[0;32m~/opt/anaconda3/lib/python3.7/site-packages/ee/oauth.py\u001b[0m in \u001b[0;36m_obtain_and_write_token\u001b[0;34m(auth_code, code_verifier, scopes)\u001b[0m\n\u001b[1;32m    167\u001b[0m     \u001b[0mfetch_data\u001b[0m \u001b[0;34m=\u001b[0m \u001b[0mdict\u001b[0m\u001b[0;34m(\u001b[0m\u001b[0mrequest_id\u001b[0m\u001b[0;34m=\u001b[0m\u001b[0mrequest_id\u001b[0m\u001b[0;34m,\u001b[0m \u001b[0mclient_verifier\u001b[0m\u001b[0;34m=\u001b[0m\u001b[0mclient_verifier\u001b[0m\u001b[0;34m)\u001b[0m\u001b[0;34m\u001b[0m\u001b[0;34m\u001b[0m\u001b[0m\n\u001b[1;32m    168\u001b[0m   \u001b[0;32mif\u001b[0m \u001b[0;32mnot\u001b[0m \u001b[0mauth_code\u001b[0m\u001b[0;34m:\u001b[0m\u001b[0;34m\u001b[0m\u001b[0;34m\u001b[0m\u001b[0m\n\u001b[0;32m--> 169\u001b[0;31m     \u001b[0mauth_code\u001b[0m \u001b[0;34m=\u001b[0m \u001b[0minput\u001b[0m\u001b[0;34m(\u001b[0m\u001b[0;34m'Enter verification code: '\u001b[0m\u001b[0;34m)\u001b[0m\u001b[0;34m\u001b[0m\u001b[0;34m\u001b[0m\u001b[0m\n\u001b[0m\u001b[1;32m    170\u001b[0m   \u001b[0;32massert\u001b[0m \u001b[0misinstance\u001b[0m\u001b[0;34m(\u001b[0m\u001b[0mauth_code\u001b[0m\u001b[0;34m,\u001b[0m \u001b[0msix\u001b[0m\u001b[0;34m.\u001b[0m\u001b[0mstring_types\u001b[0m\u001b[0;34m)\u001b[0m\u001b[0;34m\u001b[0m\u001b[0;34m\u001b[0m\u001b[0m\n\u001b[1;32m    171\u001b[0m   \u001b[0mclient_info\u001b[0m \u001b[0;34m=\u001b[0m \u001b[0;34m{\u001b[0m\u001b[0;34m}\u001b[0m\u001b[0;34m\u001b[0m\u001b[0;34m\u001b[0m\u001b[0m\n",
      "\u001b[0;32m~/opt/anaconda3/lib/python3.7/site-packages/ipykernel/kernelbase.py\u001b[0m in \u001b[0;36mraw_input\u001b[0;34m(self, prompt)\u001b[0m\n\u001b[1;32m    849\u001b[0m             \u001b[0mself\u001b[0m\u001b[0;34m.\u001b[0m\u001b[0m_parent_ident\u001b[0m\u001b[0;34m,\u001b[0m\u001b[0;34m\u001b[0m\u001b[0;34m\u001b[0m\u001b[0m\n\u001b[1;32m    850\u001b[0m             \u001b[0mself\u001b[0m\u001b[0;34m.\u001b[0m\u001b[0m_parent_header\u001b[0m\u001b[0;34m,\u001b[0m\u001b[0;34m\u001b[0m\u001b[0;34m\u001b[0m\u001b[0m\n\u001b[0;32m--> 851\u001b[0;31m             \u001b[0mpassword\u001b[0m\u001b[0;34m=\u001b[0m\u001b[0;32mFalse\u001b[0m\u001b[0;34m,\u001b[0m\u001b[0;34m\u001b[0m\u001b[0;34m\u001b[0m\u001b[0m\n\u001b[0m\u001b[1;32m    852\u001b[0m         )\n\u001b[1;32m    853\u001b[0m \u001b[0;34m\u001b[0m\u001b[0m\n",
      "\u001b[0;32m~/opt/anaconda3/lib/python3.7/site-packages/ipykernel/kernelbase.py\u001b[0m in \u001b[0;36m_input_request\u001b[0;34m(self, prompt, ident, parent, password)\u001b[0m\n\u001b[1;32m    890\u001b[0m             \u001b[0;32mexcept\u001b[0m \u001b[0mKeyboardInterrupt\u001b[0m\u001b[0;34m:\u001b[0m\u001b[0;34m\u001b[0m\u001b[0;34m\u001b[0m\u001b[0m\n\u001b[1;32m    891\u001b[0m                 \u001b[0;31m# re-raise KeyboardInterrupt, to truncate traceback\u001b[0m\u001b[0;34m\u001b[0m\u001b[0;34m\u001b[0m\u001b[0;34m\u001b[0m\u001b[0m\n\u001b[0;32m--> 892\u001b[0;31m                 \u001b[0;32mraise\u001b[0m \u001b[0mKeyboardInterrupt\u001b[0m\u001b[0;34m(\u001b[0m\u001b[0;34m\"Interrupted by user\"\u001b[0m\u001b[0;34m)\u001b[0m \u001b[0;32mfrom\u001b[0m \u001b[0;32mNone\u001b[0m\u001b[0;34m\u001b[0m\u001b[0;34m\u001b[0m\u001b[0m\n\u001b[0m\u001b[1;32m    893\u001b[0m             \u001b[0;32mexcept\u001b[0m \u001b[0mException\u001b[0m \u001b[0;32mas\u001b[0m \u001b[0me\u001b[0m\u001b[0;34m:\u001b[0m\u001b[0;34m\u001b[0m\u001b[0;34m\u001b[0m\u001b[0m\n\u001b[1;32m    894\u001b[0m                 \u001b[0mself\u001b[0m\u001b[0;34m.\u001b[0m\u001b[0mlog\u001b[0m\u001b[0;34m.\u001b[0m\u001b[0mwarning\u001b[0m\u001b[0;34m(\u001b[0m\u001b[0;34m\"Invalid Message:\"\u001b[0m\u001b[0;34m,\u001b[0m \u001b[0mexc_info\u001b[0m\u001b[0;34m=\u001b[0m\u001b[0;32mTrue\u001b[0m\u001b[0;34m)\u001b[0m\u001b[0;34m\u001b[0m\u001b[0;34m\u001b[0m\u001b[0m\n",
      "\u001b[0;31mKeyboardInterrupt\u001b[0m: Interrupted by user"
     ]
    }
   ],
   "source": [
    "# Trigger the authentication flow.\n",
    "ee.Authenticate()"
   ]
  },
  {
   "cell_type": "code",
   "execution_count": 4,
   "metadata": {},
   "outputs": [],
   "source": [
    "# Initialize the library.\n",
    "ee.Initialize()"
   ]
  },
  {
   "cell_type": "code",
   "execution_count": null,
   "metadata": {},
   "outputs": [
    {
     "name": "stdout",
     "output_type": "stream",
     "text": [
      "Collecting sankee\n",
      "  Downloading sankee-0.0.1-py3-none-any.whl (26 kB)\n",
      "Requirement already satisfied: future==0.18.2; python_version >= \"2.6\" and python_version not in \"3.0, 3.1, 3.2, 3.3\" in ./opt/anaconda3/lib/python3.7/site-packages (from sankee) (0.18.2)\n",
      "Requirement already satisfied: pyasn1-modules==0.2.8 in ./opt/anaconda3/lib/python3.7/site-packages (from sankee) (0.2.8)\n",
      "Requirement already satisfied: ipython-genutils==0.2.0 in ./opt/anaconda3/lib/python3.7/site-packages (from sankee) (0.2.0)\n",
      "Collecting prompt-toolkit==3.0.16; python_full_version >= \"3.6.1\"\n",
      "  Downloading prompt_toolkit-3.0.16-py3-none-any.whl (366 kB)\n",
      "\u001b[K     |████████████████████████████████| 366 kB 2.5 MB/s eta 0:00:01\n",
      "\u001b[?25hRequirement already satisfied: pyasn1==0.4.8 in ./opt/anaconda3/lib/python3.7/site-packages (from sankee) (0.4.8)\n",
      "Collecting idna==2.10; python_version >= \"2.7\" and python_version not in \"3.0, 3.1, 3.2, 3.3\"\n",
      "  Using cached idna-2.10-py2.py3-none-any.whl (58 kB)\n",
      "Collecting nbformat==5.1.2\n",
      "  Downloading nbformat-5.1.2-py3-none-any.whl (113 kB)\n",
      "\u001b[K     |████████████████████████████████| 113 kB 5.8 MB/s eta 0:00:01\n",
      "\u001b[?25hRequirement already satisfied: google-crc32c==1.1.2; python_version >= \"3.5\" in ./opt/anaconda3/lib/python3.7/site-packages (from sankee) (1.1.2)\n",
      "Collecting pygments==2.8.1; python_version >= \"3.5\"\n",
      "  Downloading Pygments-2.8.1-py3-none-any.whl (983 kB)\n",
      "\u001b[K     |████████████████████████████████| 983 kB 5.3 MB/s eta 0:00:01\n",
      "\u001b[?25hRequirement already satisfied: rsa==4.7.2; python_version >= \"3.6\" in ./opt/anaconda3/lib/python3.7/site-packages (from sankee) (4.7.2)\n",
      "Requirement already satisfied: python-dateutil==2.8.1; python_version >= \"2.7\" and python_version not in \"3.0, 3.1, 3.2, 3.3\" in ./opt/anaconda3/lib/python3.7/site-packages (from sankee) (2.8.1)\n",
      "Collecting attrs==20.3.0; python_version >= \"2.7\" and python_version not in \"3.0, 3.1, 3.2, 3.3\"\n",
      "  Downloading attrs-20.3.0-py2.py3-none-any.whl (49 kB)\n",
      "\u001b[K     |████████████████████████████████| 49 kB 4.6 MB/s eta 0:00:01\n",
      "\u001b[?25hCollecting pycparser==2.20; python_version >= \"2.7\" and python_version not in \"3.0, 3.1, 3.2, 3.3\"\n",
      "  Using cached pycparser-2.20-py2.py3-none-any.whl (112 kB)\n",
      "Collecting chardet==4.0.0; python_version >= \"2.7\" and python_version not in \"3.0, 3.1, 3.2, 3.3, 3.4\"\n",
      "  Downloading chardet-4.0.0-py2.py3-none-any.whl (178 kB)\n",
      "\u001b[K     |████████████████████████████████| 178 kB 6.6 MB/s eta 0:00:01\n",
      "\u001b[?25hRequirement already satisfied: cachetools==4.2.1; python_version ~= \"3.5\" in ./opt/anaconda3/lib/python3.7/site-packages (from sankee) (4.2.1)\n",
      "Collecting parso==0.8.1; python_version >= \"3.6\"\n",
      "  Downloading parso-0.8.1-py2.py3-none-any.whl (93 kB)\n",
      "\u001b[K     |████████████████████████████████| 93 kB 2.5 MB/s eta 0:00:011\n",
      "\u001b[?25hCollecting pyparsing==2.4.7; python_version >= \"2.6\" and python_version not in \"3.0, 3.1, 3.2, 3.3\"\n",
      "  Downloading pyparsing-2.4.7-py2.py3-none-any.whl (67 kB)\n",
      "\u001b[K     |████████████████████████████████| 67 kB 4.2 MB/s eta 0:00:01\n",
      "\u001b[?25hCollecting ipython==7.21.0; python_version >= \"3.7\"\n",
      "  Downloading ipython-7.21.0-py3-none-any.whl (784 kB)\n",
      "\u001b[K     |████████████████████████████████| 784 kB 6.1 MB/s eta 0:00:01\n",
      "\u001b[?25hCollecting cffi==1.14.5\n",
      "  Downloading cffi-1.14.5-cp37-cp37m-macosx_10_9_x86_64.whl (176 kB)\n",
      "\u001b[K     |████████████████████████████████| 176 kB 8.2 MB/s eta 0:00:01\n",
      "\u001b[?25hCollecting wcwidth==0.2.5\n",
      "  Downloading wcwidth-0.2.5-py2.py3-none-any.whl (30 kB)\n",
      "Requirement already satisfied: google-resumable-media==1.2.0; python_version >= \"2.7\" and python_version not in \"3.0, 3.1, 3.2, 3.3, 3.4, 3.5\" in ./opt/anaconda3/lib/python3.7/site-packages (from sankee) (1.2.0)\n",
      "Collecting numpy==1.20.1\n",
      "  Downloading numpy-1.20.1-cp37-cp37m-macosx_10_9_x86_64.whl (16.0 MB)\n",
      "\u001b[K     |████████████████████████████████| 16.0 MB 10.6 MB/s eta 0:00:01   |██████                          | 3.0 MB 770 kB/s eta 0:00:17\n",
      "\u001b[?25hCollecting google-cloud-storage==1.36.1; python_version >= \"2.7\" and python_version not in \"3.0, 3.1, 3.2, 3.3, 3.4, 3.5\"\n",
      "  Downloading google_cloud_storage-1.36.1-py2.py3-none-any.whl (97 kB)\n",
      "\u001b[K     |████████████████████████████████| 97 kB 1.4 MB/s eta 0:00:01\n",
      "\u001b[?25hCollecting ipykernel==5.5.0\n",
      "  Downloading ipykernel-5.5.0-py3-none-any.whl (120 kB)\n",
      "\u001b[K     |████████████████████████████████| 120 kB 16.7 MB/s eta 0:00:01\n",
      "\u001b[?25hCollecting backcall==0.2.0\n",
      "  Downloading backcall-0.2.0-py2.py3-none-any.whl (11 kB)\n",
      "Requirement already satisfied: uritemplate==3.0.1; python_version >= \"2.7\" and python_version not in \"3.0, 3.1, 3.2, 3.3\" in ./opt/anaconda3/lib/python3.7/site-packages (from sankee) (3.0.1)\n",
      "Collecting traitlets==5.0.5; python_version >= \"3.7\"\n",
      "  Downloading traitlets-5.0.5-py3-none-any.whl (100 kB)\n",
      "\u001b[K     |████████████████████████████████| 100 kB 3.9 MB/s eta 0:00:01\n",
      "\u001b[?25hCollecting protobuf==3.15.5\n",
      "  Downloading protobuf-3.15.5-cp37-cp37m-macosx_10_9_x86_64.whl (1.0 MB)\n",
      "\u001b[K     |████████████████████████████████| 1.0 MB 13.8 MB/s eta 0:00:01\n",
      "\u001b[?25hRequirement already satisfied: httplib2shim==0.0.3 in ./opt/anaconda3/lib/python3.7/site-packages (from sankee) (0.0.3)\n",
      "Collecting pyrsistent==0.17.3; python_version >= \"3.5\"\n",
      "  Downloading pyrsistent-0.17.3.tar.gz (106 kB)\n",
      "\u001b[K     |████████████████████████████████| 106 kB 12.2 MB/s eta 0:00:01\n",
      "\u001b[?25hRequirement already satisfied: google-api-python-client==1.12.8 in ./opt/anaconda3/lib/python3.7/site-packages (from sankee) (1.12.8)\n",
      "Collecting jedi==0.18.0; python_version >= \"3.6\"\n",
      "  Downloading jedi-0.18.0-py2.py3-none-any.whl (1.4 MB)\n",
      "\u001b[K     |████████████████████████████████| 1.4 MB 11.6 MB/s eta 0:00:01\n",
      "\u001b[?25hCollecting jupyter-core==4.7.1; python_version >= \"3.6\"\n",
      "  Downloading jupyter_core-4.7.1-py3-none-any.whl (82 kB)\n",
      "\u001b[K     |████████████████████████████████| 82 kB 598 kB/s  eta 0:00:01\n",
      "\u001b[?25hCollecting packaging==20.9; python_version >= \"2.7\" and python_version not in \"3.0, 3.1, 3.2, 3.3\"\n",
      "  Downloading packaging-20.9-py2.py3-none-any.whl (40 kB)\n",
      "\u001b[K     |████████████████████████████████| 40 kB 5.2 MB/s  eta 0:00:01\n",
      "\u001b[?25hCollecting requests==2.25.1; python_version >= \"2.7\" and python_version not in \"3.0, 3.1, 3.2, 3.3, 3.4\"\n",
      "  Downloading requests-2.25.1-py2.py3-none-any.whl (61 kB)\n",
      "\u001b[K     |████████████████████████████████| 61 kB 3.4 MB/s eta 0:00:01\n",
      "\u001b[?25hCollecting retrying==1.3.3\n",
      "  Downloading retrying-1.3.3.tar.gz (10 kB)\n",
      "Requirement already satisfied: google-cloud-core==1.6.0; python_version >= \"2.7\" and python_version not in \"3.0, 3.1, 3.2, 3.3, 3.4, 3.5\" in ./opt/anaconda3/lib/python3.7/site-packages (from sankee) (1.6.0)\n",
      "Collecting pytz==2021.1\n",
      "  Downloading pytz-2021.1-py2.py3-none-any.whl (510 kB)\n",
      "\u001b[K     |████████████████████████████████| 510 kB 10.1 MB/s eta 0:00:01\n",
      "\u001b[?25hCollecting jupyter-client==6.1.11; python_version >= \"3.5\"\n",
      "  Downloading jupyter_client-6.1.11-py3-none-any.whl (108 kB)\n",
      "\u001b[K     |████████████████████████████████| 108 kB 8.5 MB/s eta 0:00:01\n",
      "\u001b[?25hCollecting httplib2==0.19.0\n",
      "  Downloading httplib2-0.19.0-py3-none-any.whl (95 kB)\n",
      "\u001b[K     |████████████████████████████████| 95 kB 3.1 MB/s  eta 0:00:01\n",
      "\u001b[?25hCollecting certifi==2020.12.5\n",
      "  Downloading certifi-2020.12.5-py2.py3-none-any.whl (147 kB)\n",
      "\u001b[K     |████████████████████████████████| 147 kB 13.7 MB/s eta 0:00:01\n",
      "\u001b[?25hCollecting google-auth==1.27.1; python_version >= \"2.7\" and python_version not in \"3.0, 3.1, 3.2, 3.3, 3.4, 3.5\"\n",
      "  Downloading google_auth-1.27.1-py2.py3-none-any.whl (136 kB)\n",
      "\u001b[K     |████████████████████████████████| 136 kB 13.1 MB/s eta 0:00:01\n",
      "\u001b[?25hCollecting tornado==6.1; python_version >= \"3.5\"\n",
      "  Downloading tornado-6.1-cp37-cp37m-macosx_10_9_x86_64.whl (416 kB)\n",
      "\u001b[K     |████████████████████████████████| 416 kB 13.8 MB/s eta 0:00:01\n",
      "\u001b[?25hRequirement already satisfied: jsonschema==3.2.0 in ./opt/anaconda3/lib/python3.7/site-packages (from sankee) (3.2.0)\n",
      "Requirement already satisfied: google-auth-httplib2==0.1.0 in ./opt/anaconda3/lib/python3.7/site-packages (from sankee) (0.1.0)\n",
      "Collecting google-api-core==1.26.1; python_version >= \"2.7\" and python_version not in \"3.0, 3.1, 3.2, 3.3, 3.4, 3.5\"\n",
      "  Downloading google_api_core-1.26.1-py2.py3-none-any.whl (92 kB)\n",
      "\u001b[K     |████████████████████████████████| 92 kB 2.0 MB/s  eta 0:00:01\n",
      "\u001b[?25hCollecting pyzmq==22.0.3; python_version >= \"3.6\"\n",
      "  Downloading pyzmq-22.0.3-cp37-cp37m-macosx_10_9_x86_64.whl (1.0 MB)\n",
      "\u001b[K     |████████████████████████████████| 1.0 MB 13.3 MB/s eta 0:00:01\n",
      "\u001b[?25hCollecting earthengine-api==0.1.254\n",
      "  Downloading earthengine-api-0.1.254.tar.gz (150 kB)\n",
      "\u001b[K     |████████████████████████████████| 150 kB 11.8 MB/s eta 0:00:01\n",
      "\u001b[?25hRequirement already satisfied: pickleshare==0.7.5 in ./opt/anaconda3/lib/python3.7/site-packages (from sankee) (0.7.5)\n",
      "Collecting pandas==1.2.3\n",
      "  Downloading pandas-1.2.3-cp37-cp37m-macosx_10_9_x86_64.whl (10.4 MB)\n",
      "\u001b[K     |████████████████████████████████| 10.4 MB 13.7 MB/s eta 0:00:01    |█████████████████████▏          | 6.8 MB 13.7 MB/s eta 0:00:01\n",
      "\u001b[?25hCollecting plotly==4.14.3\n",
      "  Downloading plotly-4.14.3-py2.py3-none-any.whl (13.2 MB)\n",
      "\u001b[K     |████████████████████████████████| 13.2 MB 10.8 MB/s eta 0:00:01\n"
     ]
    }
   ],
   "source": [
    "pip install sankee"
   ]
  },
  {
   "cell_type": "code",
   "execution_count": 5,
   "metadata": {},
   "outputs": [],
   "source": [
    "# Import the MODIS land cover collection.\n",
    "lc = ee.ImageCollection('MODIS/006/MCD12Q1')"
   ]
  },
  {
   "cell_type": "code",
   "execution_count": 6,
   "metadata": {},
   "outputs": [],
   "source": [
    "# Define the urban location of interest as a point near Utica.\n",
    "u_lon = -75.23947\n",
    "u_lat = 43.10897\n",
    "u_poi = ee.Geometry.Point(u_lon, u_lat)"
   ]
  },
  {
   "cell_type": "code",
   "execution_count": 8,
   "metadata": {},
   "outputs": [
    {
     "name": "stdout",
     "output_type": "stream",
     "text": [
      "Land cover value at urban point is: 13\n"
     ]
    }
   ],
   "source": [
    "scale = 1000\n",
    "# Print the land cover type at the point.\n",
    "lc_urban_point = lc.first().sample(u_poi, scale).first().get('LC_Type1').getInfo()\n",
    "print('Land cover value at urban point is:', lc_urban_point)"
   ]
  },
  {
   "cell_type": "code",
   "execution_count": 9,
   "metadata": {},
   "outputs": [],
   "source": [
    "# Import the MODIS vcf collection.\n",
    "vcf = ee.ImageCollection('MODIS/006/MOD44B')"
   ]
  },
  {
   "cell_type": "code",
   "execution_count": null,
   "metadata": {},
   "outputs": [],
   "source": []
  }
 ],
 "metadata": {
  "kernelspec": {
   "display_name": "Python 3",
   "language": "python",
   "name": "python3"
  },
  "language_info": {
   "codemirror_mode": {
    "name": "ipython",
    "version": 3
   },
   "file_extension": ".py",
   "mimetype": "text/x-python",
   "name": "python",
   "nbconvert_exporter": "python",
   "pygments_lexer": "ipython3",
   "version": "3.7.6"
  }
 },
 "nbformat": 4,
 "nbformat_minor": 4
}
