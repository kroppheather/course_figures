{
 "cells": [
  {
   "cell_type": "code",
   "execution_count": 3,
   "metadata": {},
   "outputs": [
    {
     "name": "stdout",
     "output_type": "stream",
     "text": [
      "Collecting ee\n",
      "  Downloading ee-0.2.tar.gz (3.0 kB)\n",
      "Collecting blessings\n",
      "  Downloading blessings-1.7-py3-none-any.whl (18 kB)\n",
      "Requirement already satisfied: six in ./opt/anaconda3/lib/python3.7/site-packages (from blessings->ee) (1.14.0)\n",
      "Building wheels for collected packages: ee\n",
      "  Building wheel for ee (setup.py) ... \u001b[?25ldone\n",
      "\u001b[?25h  Created wheel for ee: filename=ee-0.2-py3-none-any.whl size=3677 sha256=218f07bb0b1087a564f6c8ae785dd5562ff2675b76152939f8c962ed8140e768\n",
      "  Stored in directory: /Users/hkropp/Library/Caches/pip/wheels/43/5c/f5/97cd9b9fefc16e03cd43c2a36fc8d894685f6c708f731861f6\n",
      "Successfully built ee\n",
      "Installing collected packages: blessings, ee\n",
      "Successfully installed blessings-1.7 ee-0.2\n",
      "Note: you may need to restart the kernel to use updated packages.\n"
     ]
    }
   ],
   "source": [
    "pip install ee"
   ]
  },
  {
   "cell_type": "code",
   "execution_count": 5,
   "metadata": {},
   "outputs": [
    {
     "name": "stdout",
     "output_type": "stream",
     "text": [
      "\u001b[31mERROR: Could not find a version that satisfies the requirement StringIO (from versions: none)\u001b[0m\n",
      "\u001b[31mERROR: No matching distribution found for StringIO\u001b[0m\n",
      "Note: you may need to restart the kernel to use updated packages.\n"
     ]
    }
   ],
   "source": [
    "pip install StringIO"
   ]
  },
  {
   "cell_type": "code",
   "execution_count": null,
   "metadata": {},
   "outputs": [],
   "source": []
  }
 ],
 "metadata": {
  "kernelspec": {
   "display_name": "Python 3",
   "language": "python",
   "name": "python3"
  },
  "language_info": {
   "codemirror_mode": {
    "name": "ipython",
    "version": 3
   },
   "file_extension": ".py",
   "mimetype": "text/x-python",
   "name": "python",
   "nbconvert_exporter": "python",
   "pygments_lexer": "ipython3",
   "version": "3.7.6"
  }
 },
 "nbformat": 4,
 "nbformat_minor": 4
}
